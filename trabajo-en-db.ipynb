{
 "cells": [
  {
   "cell_type": "code",
   "execution_count": 10,
   "id": "f3b22125-25cc-418f-a057-97c9583567bb",
   "metadata": {},
   "outputs": [],
   "source": [
    "import pandas as pd\n",
    "\n",
    "# Cargar el archivo CSV en un DataFrame\n",
    "df = pd.read_csv(r'C:\\Users\\sonye\\Documents\\CODING DOJO\\df_base.csv')\n",
    "\n",
    "# Ahora puedes trabajar con el DataFrame 'df'\n"
   ]
  },
  {
   "cell_type": "code",
   "execution_count": 2,
   "id": "3d07289d-23df-4af4-881d-f790d050e86e",
   "metadata": {},
   "outputs": [
    {
     "data": {
      "text/html": [
       "<div>\n",
       "<style scoped>\n",
       "    .dataframe tbody tr th:only-of-type {\n",
       "        vertical-align: middle;\n",
       "    }\n",
       "\n",
       "    .dataframe tbody tr th {\n",
       "        vertical-align: top;\n",
       "    }\n",
       "\n",
       "    .dataframe thead th {\n",
       "        text-align: right;\n",
       "    }\n",
       "</style>\n",
       "<table border=\"1\" class=\"dataframe\">\n",
       "  <thead>\n",
       "    <tr style=\"text-align: right;\">\n",
       "      <th></th>\n",
       "      <th>summary</th>\n",
       "      <th>industryName</th>\n",
       "      <th>locationName</th>\n",
       "      <th>student</th>\n",
       "      <th>location</th>\n",
       "      <th>headline</th>\n",
       "      <th>experience</th>\n",
       "      <th>education</th>\n",
       "      <th>certifications</th>\n",
       "      <th>projects</th>\n",
       "      <th>skills</th>\n",
       "    </tr>\n",
       "  </thead>\n",
       "  <tbody>\n",
       "    <tr>\n",
       "      <th>0</th>\n",
       "      <td>Actualmente cursando un máster de Big Data, mi...</td>\n",
       "      <td>Computer Software</td>\n",
       "      <td>Peru</td>\n",
       "      <td>False</td>\n",
       "      <td>{'basicLocation': {'countryCode': 'pe'}}</td>\n",
       "      <td>AWS Community Builders/ AWS Certified Solution...</td>\n",
       "      <td>[{'entityUrn': 'urn:li:fs_position:(ACoAAB9JbJ...</td>\n",
       "      <td>[{'entityUrn': 'urn:li:fs_education:(ACoAAB9Jb...</td>\n",
       "      <td>[{'authority': 'Amazon Web Services (AWS)', 'n...</td>\n",
       "      <td>[]</td>\n",
       "      <td>[{'name': 'Análisis de datos'}, {'name': 'Amaz...</td>\n",
       "    </tr>\n",
       "  </tbody>\n",
       "</table>\n",
       "</div>"
      ],
      "text/plain": [
       "                                             summary       industryName  \\\n",
       "0  Actualmente cursando un máster de Big Data, mi...  Computer Software   \n",
       "\n",
       "  locationName  student                                  location  \\\n",
       "0         Peru    False  {'basicLocation': {'countryCode': 'pe'}}   \n",
       "\n",
       "                                            headline  \\\n",
       "0  AWS Community Builders/ AWS Certified Solution...   \n",
       "\n",
       "                                          experience  \\\n",
       "0  [{'entityUrn': 'urn:li:fs_position:(ACoAAB9JbJ...   \n",
       "\n",
       "                                           education  \\\n",
       "0  [{'entityUrn': 'urn:li:fs_education:(ACoAAB9Jb...   \n",
       "\n",
       "                                      certifications projects  \\\n",
       "0  [{'authority': 'Amazon Web Services (AWS)', 'n...       []   \n",
       "\n",
       "                                              skills  \n",
       "0  [{'name': 'Análisis de datos'}, {'name': 'Amaz...  "
      ]
     },
     "execution_count": 2,
     "metadata": {},
     "output_type": "execute_result"
    }
   ],
   "source": [
    "df"
   ]
  },
  {
   "cell_type": "code",
   "execution_count": 8,
   "id": "2a0644f6-367d-482d-bf8e-d1b0507894d1",
   "metadata": {},
   "outputs": [
    {
     "name": "stdout",
     "output_type": "stream",
     "text": [
      "<class 'pandas.core.frame.DataFrame'>\n",
      "RangeIndex: 1 entries, 0 to 0\n",
      "Data columns (total 11 columns):\n",
      " #   Column          Non-Null Count  Dtype \n",
      "---  ------          --------------  ----- \n",
      " 0   summary         1 non-null      object\n",
      " 1   industryName    1 non-null      object\n",
      " 2   locationName    1 non-null      object\n",
      " 3   student         1 non-null      bool  \n",
      " 4   location        1 non-null      object\n",
      " 5   headline        1 non-null      object\n",
      " 6   experience      1 non-null      object\n",
      " 7   education       1 non-null      object\n",
      " 8   certifications  1 non-null      object\n",
      " 9   projects        1 non-null      object\n",
      " 10  skills          1 non-null      object\n",
      "dtypes: bool(1), object(10)\n",
      "memory usage: 213.0+ bytes\n"
     ]
    }
   ],
   "source": [
    "df.info()\n"
   ]
  },
  {
   "cell_type": "code",
   "execution_count": 12,
   "id": "765c9e1c-742c-495d-bcc7-905aa9438e79",
   "metadata": {},
   "outputs": [
    {
     "name": "stdout",
     "output_type": "stream",
     "text": [
      "                                             summary  student  \\\n",
      "0  Actualmente cursando un máster de Big Data, mi...    False   \n",
      "\n",
      "                                   location  \\\n",
      "0  {'basicLocation': {'countryCode': 'pe'}}   \n",
      "\n",
      "                                            headline  \\\n",
      "0  AWS Community Builders/ AWS Certified Solution...   \n",
      "\n",
      "                                          experience  \\\n",
      "0  [{'entityUrn': 'urn:li:fs_position:(ACoAAB9JbJ...   \n",
      "\n",
      "                                           education  \\\n",
      "0  [{'entityUrn': 'urn:li:fs_education:(ACoAAB9Jb...   \n",
      "\n",
      "                                      certifications projects  \\\n",
      "0  [{'authority': 'Amazon Web Services (AWS)', 'n...       []   \n",
      "\n",
      "                                              skills  \\\n",
      "0  [{'name': 'Análisis de datos'}, {'name': 'Amaz...   \n",
      "\n",
      "   industryName_Computer Software  locationName_Peru  \n",
      "0                            True               True  \n"
     ]
    }
   ],
   "source": [
    "# Codificar variables categóricas utilizando One-Hot Encoding\n",
    "df_encoded = pd.get_dummies(df, columns=['industryName', 'locationName'])\n",
    "\n",
    "# Mostrar las primeras filas del DataFrame codificado\n",
    "print(df_encoded.head())"
   ]
  },
  {
   "cell_type": "code",
   "execution_count": 13,
   "id": "d0580a45-077b-47f1-a1ab-b0784ae0ac6a",
   "metadata": {},
   "outputs": [
    {
     "name": "stdout",
     "output_type": "stream",
     "text": [
      "<class 'pandas.core.frame.DataFrame'>\n",
      "RangeIndex: 1 entries, 0 to 0\n",
      "Data columns (total 11 columns):\n",
      " #   Column                          Non-Null Count  Dtype \n",
      "---  ------                          --------------  ----- \n",
      " 0   summary                         1 non-null      object\n",
      " 1   student                         1 non-null      bool  \n",
      " 2   location                        1 non-null      object\n",
      " 3   headline                        1 non-null      object\n",
      " 4   experience                      1 non-null      object\n",
      " 5   education                       1 non-null      object\n",
      " 6   certifications                  1 non-null      object\n",
      " 7   projects                        1 non-null      object\n",
      " 8   skills                          1 non-null      object\n",
      " 9   industryName_Computer Software  1 non-null      bool  \n",
      " 10  locationName_Peru               1 non-null      bool  \n",
      "dtypes: bool(3), object(8)\n",
      "memory usage: 199.0+ bytes\n"
     ]
    }
   ],
   "source": []
  },
  {
   "cell_type": "code",
   "execution_count": null,
   "id": "85139d68-41df-460b-b3b7-da9a75291efc",
   "metadata": {},
   "outputs": [],
   "source": []
  }
 ],
 "metadata": {
  "kernelspec": {
   "display_name": "Python 3 (ipykernel)",
   "language": "python",
   "name": "python3"
  },
  "language_info": {
   "codemirror_mode": {
    "name": "ipython",
    "version": 3
   },
   "file_extension": ".py",
   "mimetype": "text/x-python",
   "name": "python",
   "nbconvert_exporter": "python",
   "pygments_lexer": "ipython3",
   "version": "3.12.2"
  }
 },
 "nbformat": 4,
 "nbformat_minor": 5
}
